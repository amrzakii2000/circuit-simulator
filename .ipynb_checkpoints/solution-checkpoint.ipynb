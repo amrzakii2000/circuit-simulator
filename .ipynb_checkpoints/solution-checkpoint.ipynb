{
 "cells": [
  {
   "cell_type": "code",
   "execution_count": 42,
   "id": "4425e52c",
   "metadata": {},
   "outputs": [],
   "source": [
    "import numpy as np\n",
    "from collections import defaultdict"
   ]
  },
  {
   "cell_type": "code",
   "execution_count": 43,
   "id": "a56b097c",
   "metadata": {},
   "outputs": [],
   "source": [
    "class Component:\n",
    "    def __init__(self, name : str, node1 : int, node2 : int, current_value : float, initial_value : float):\n",
    "        self.name = name\n",
    "        self.node1 = node1\n",
    "        self.node2 = node2\n",
    "        self.current_value = current_value\n",
    "        self.initial_value = initial_value\n",
    "    \n",
    "    def __str__(self):\n",
    "        return f\"{self.name} is connected between node{self.node1} and node{self.node2}. Current value is {self.current_value}. Initial value is {self.initial_value}\""
   ]
  },
  {
   "cell_type": "code",
   "execution_count": 64,
   "id": "188bbfe0",
   "metadata": {},
   "outputs": [],
   "source": [
    "def read_file(filePath):\n",
    "    file = open(filePath, 'r')\n",
    "    lines = file.readlines()\n",
    "    \n",
    "    sim_time = float(lines[0])\n",
    "    num_iter = float(lines[1])\n",
    "    \n",
    "    circuit_components = defaultdict(list)\n",
    "    \n",
    "    for line in lines[2:-1]:\n",
    "        name, node1, node2, current_value, initial_value = line.strip('\\n').split(' ')\n",
    "        component = Component(name, int(node1[-1]), int(node2[-1]), current_value, initial_value)\n",
    "        circuit_components[name].append(component)\n",
    "        \n",
    "    return sim_time, num_iter, circuit_components "
   ]
  },
  {
   "cell_type": "code",
   "execution_count": 66,
   "id": "6374ba32",
   "metadata": {
    "scrolled": true
   },
   "outputs": [
    {
     "name": "stdout",
     "output_type": "stream",
     "text": [
      "Vsrc\n",
      "Vsrc is connected between node1 and node0. Current value is 10. Initial value is 0\n",
      "R\n",
      "R is connected between node1 and node2. Current value is 3. Initial value is 0\n",
      "R is connected between node2 and node0. Current value is 3. Initial value is 0\n"
     ]
    }
   ],
   "source": [
    "simulation_time, num_iter, circuit_components =  read_file('./testcases/1.txt')\n"
   ]
  },
  {
   "cell_type": "code",
   "execution_count": null,
   "id": "b25224f3",
   "metadata": {},
   "outputs": [],
   "source": []
  }
 ],
 "metadata": {
  "kernelspec": {
   "display_name": "Python 3 (ipykernel)",
   "language": "python",
   "name": "python3"
  },
  "language_info": {
   "codemirror_mode": {
    "name": "ipython",
    "version": 3
   },
   "file_extension": ".py",
   "mimetype": "text/x-python",
   "name": "python",
   "nbconvert_exporter": "python",
   "pygments_lexer": "ipython3",
   "version": "3.10.9"
  }
 },
 "nbformat": 4,
 "nbformat_minor": 5
}
