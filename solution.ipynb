{
 "cells": [
  {
   "cell_type": "markdown",
   "id": "4b1ee54b",
   "metadata": {},
   "source": [
    "# Lab 1"
   ]
  },
  {
   "cell_type": "code",
   "execution_count": 75,
   "id": "4425e52c",
   "metadata": {},
   "outputs": [],
   "source": [
    "import numpy as np\n",
    "from collections import defaultdict"
   ]
  },
  {
   "cell_type": "code",
   "execution_count": 76,
   "id": "0128a254",
   "metadata": {},
   "outputs": [],
   "source": [
    "class Component:\n",
    "    def __init__(self, name : str, node1 : int, node2 : int, current_value : float, initial_value : float):\n",
    "        self.name = name\n",
    "        self.node1 = node1\n",
    "        self.node2 = node2\n",
    "        self.current_value = current_value\n",
    "        self.initial_value = initial_value\n",
    "    \n",
    "    def __str__(self):\n",
    "        return f\"{self.name} is connected between node{self.node1} and node{self.node2}. Current value is {self.current_value}. Initial value is {self.initial_value}\""
   ]
  },
  {
   "cell_type": "code",
   "execution_count": 77,
   "id": "e002096f",
   "metadata": {},
   "outputs": [],
   "source": [
    "def read_file(filePath):\n",
    "    file = open(filePath, 'r')\n",
    "    lines = file.readlines()\n",
    "    \n",
    "    sim_time = float(lines[0])\n",
    "    num_iter = float(lines[1])\n",
    "    nodes = set()\n",
    "    \n",
    "    circuit_components = defaultdict(list)\n",
    "    \n",
    "    for line in lines[2:-1]:\n",
    "        name, node1, node2, current_value, initial_value = line.strip('\\n').split(' ')\n",
    "        nodes.add(node1)\n",
    "        nodes.add(node2)\n",
    "        \n",
    "        component = Component(name, int(node1[-1]), int(node2[-1]), float(current_value), float(initial_value))\n",
    "        circuit_components[name].append(component)\n",
    "        \n",
    "    return sim_time, num_iter/sim_time, circuit_components, len(nodes) - 1, len(circuit_components['Vsrc'])"
   ]
  },
  {
   "cell_type": "code",
   "execution_count": 78,
   "id": "a8a77751",
   "metadata": {},
   "outputs": [],
   "source": [
    "def construct_Gmat(n, resistances):\n",
    "    G = np.zeros((n, n))\n",
    "    for res in resistances:\n",
    "        G[res.node1 - 1][res.node1 - 1] += (1/res.current_value)\n",
    "        if res.node2 != 0:\n",
    "            G[res.node2 - 1][res.node2 - 1] += (1/res.current_value)\n",
    "            G[res.node1 - 1][res.node2 - 1] -= (1/res.current_value)\n",
    "            G[res.node2 - 1][res.node1 - 1] -= (1/res.current_value)\n",
    "    return G"
   ]
  },
  {
   "cell_type": "code",
   "execution_count": 79,
   "id": "4bf84437",
   "metadata": {},
   "outputs": [],
   "source": [
    "def construct_Bmat(n, m, voltage_sources):\n",
    "    B = np.zeros((n, m))\n",
    "    for column, voltage_source in enumerate(voltage_sources):\n",
    "        if voltage_source.node1 != 0: \n",
    "            B[voltage_source.node1 - 1][column] = 1\n",
    "        \n",
    "        if voltage_source.node2 != 0:\n",
    "            B[voltage_source.node2 - 1][column] = -1\n",
    "    return B"
   ]
  },
  {
   "cell_type": "code",
   "execution_count": 80,
   "id": "1c6800e3",
   "metadata": {},
   "outputs": [],
   "source": [
    "def construct_Cmat(b_matrix):\n",
    "    return b_matrix.transpose()"
   ]
  },
  {
   "cell_type": "code",
   "execution_count": 81,
   "id": "d0013fc3",
   "metadata": {},
   "outputs": [],
   "source": [
    "def construct_Dmat(m):\n",
    "    return np.zeros((m, m))"
   ]
  },
  {
   "cell_type": "code",
   "execution_count": 82,
   "id": "23c74424",
   "metadata": {},
   "outputs": [],
   "source": [
    "def construct_Amat(G, B, C, D):\n",
    "    G_C = np.concatenate((G, C), axis=0)\n",
    "    B_D = np.concatenate((B, D), axis=0)\n",
    "    return np.concatenate((G_C, B_D), axis=1)"
   ]
  },
  {
   "cell_type": "code",
   "execution_count": 83,
   "id": "ec65ebc9",
   "metadata": {},
   "outputs": [],
   "source": [
    "def construct_Imat(current_sources, n):\n",
    "    i = np.zeros((n, 1))\n",
    "    for cs in current_sources:\n",
    "        if cs.node1 != 0:\n",
    "            i[cs.node1 -1] += cs.current_value \n",
    "        if cs.node2 != 0:\n",
    "            i[cs.node2 -1] += cs.current_value\n",
    "    return i"
   ]
  },
  {
   "cell_type": "code",
   "execution_count": 84,
   "id": "602bbfba",
   "metadata": {},
   "outputs": [],
   "source": [
    "def construct_Emat(voltage_sources, m):\n",
    "    e = np.zeros((m, 1))\n",
    "    for column, voltage_source in enumerate(voltage_sources):\n",
    "        e[column] = voltage_source.current_value\n",
    "    return e"
   ]
  },
  {
   "cell_type": "code",
   "execution_count": 85,
   "id": "9daab420",
   "metadata": {},
   "outputs": [],
   "source": [
    "def construct_Zmat(i_mat, e_mat):\n",
    "    return np.concatenate((i_mat,e_mat), axis=0)"
   ]
  },
  {
   "cell_type": "code",
   "execution_count": 86,
   "id": "c7b68cd4",
   "metadata": {
    "scrolled": true
   },
   "outputs": [
    {
     "name": "stdout",
     "output_type": "stream",
     "text": [
      "2 0\n"
     ]
    }
   ],
   "source": [
    "# Read all needed data\n",
    "simulation_time, time_step, circuit_components, n, m =  read_file('./testcases/8.txt')\n",
    "\n",
    "print(n, m)"
   ]
  },
  {
   "cell_type": "code",
   "execution_count": 87,
   "id": "8c460eeb",
   "metadata": {},
   "outputs": [
    {
     "data": {
      "text/plain": [
       "array([[ 2., -1.],\n",
       "       [-1.,  1.]])"
      ]
     },
     "execution_count": 87,
     "metadata": {},
     "output_type": "execute_result"
    }
   ],
   "source": [
    "# Construct G matrix\n",
    "G = construct_Gmat(n, circuit_components['R'])\n",
    "G"
   ]
  },
  {
   "cell_type": "code",
   "execution_count": 88,
   "id": "7fe9d81e",
   "metadata": {},
   "outputs": [
    {
     "data": {
      "text/plain": [
       "array([], shape=(2, 0), dtype=float64)"
      ]
     },
     "execution_count": 88,
     "metadata": {},
     "output_type": "execute_result"
    }
   ],
   "source": [
    "# Construct B matrix\n",
    "B = construct_Bmat(n, m, circuit_components['Vsrc'])\n",
    "B"
   ]
  },
  {
   "cell_type": "code",
   "execution_count": 89,
   "id": "4790f9c1",
   "metadata": {},
   "outputs": [
    {
     "data": {
      "text/plain": [
       "array([], shape=(0, 2), dtype=float64)"
      ]
     },
     "execution_count": 89,
     "metadata": {},
     "output_type": "execute_result"
    }
   ],
   "source": [
    "# Construct C matrix\n",
    "C = construct_Cmat(B)\n",
    "C"
   ]
  },
  {
   "cell_type": "code",
   "execution_count": 90,
   "id": "30979b38",
   "metadata": {},
   "outputs": [
    {
     "data": {
      "text/plain": [
       "array([], shape=(0, 0), dtype=float64)"
      ]
     },
     "execution_count": 90,
     "metadata": {},
     "output_type": "execute_result"
    }
   ],
   "source": [
    "# Construct D matrix\n",
    "D = construct_Dmat(m)\n",
    "D"
   ]
  },
  {
   "cell_type": "code",
   "execution_count": 91,
   "id": "e3cfadac",
   "metadata": {},
   "outputs": [
    {
     "data": {
      "text/plain": [
       "array([[ 2., -1.],\n",
       "       [-1.,  1.]])"
      ]
     },
     "execution_count": 91,
     "metadata": {},
     "output_type": "execute_result"
    }
   ],
   "source": [
    "# Construct A matrix\n",
    "A = construct_Amat(G=G, C=C, B=B, D=D)\n",
    "A"
   ]
  },
  {
   "cell_type": "code",
   "execution_count": 92,
   "id": "4ad32d8b",
   "metadata": {},
   "outputs": [
    {
     "data": {
      "text/plain": [
       "array([[0.],\n",
       "       [1.]])"
      ]
     },
     "execution_count": 92,
     "metadata": {},
     "output_type": "execute_result"
    }
   ],
   "source": [
    "# Construct i matrix\n",
    "i = construct_Imat(circuit_components['Isrc'], n)\n",
    "i"
   ]
  },
  {
   "cell_type": "code",
   "execution_count": 93,
   "id": "0958c441",
   "metadata": {},
   "outputs": [
    {
     "data": {
      "text/plain": [
       "array([], shape=(0, 1), dtype=float64)"
      ]
     },
     "execution_count": 93,
     "metadata": {},
     "output_type": "execute_result"
    }
   ],
   "source": [
    "# Construct e matrix\n",
    "e = construct_Emat(circuit_components['Vsrc'], m)\n",
    "e"
   ]
  },
  {
   "cell_type": "code",
   "execution_count": 94,
   "id": "b6b76c69",
   "metadata": {},
   "outputs": [
    {
     "data": {
      "text/plain": [
       "array([[0.],\n",
       "       [1.]])"
      ]
     },
     "execution_count": 94,
     "metadata": {},
     "output_type": "execute_result"
    }
   ],
   "source": [
    "# Construct Z matrix\n",
    "Z = construct_Zmat(i, e)\n",
    "Z"
   ]
  },
  {
   "cell_type": "code",
   "execution_count": 95,
   "id": "0b934f0d",
   "metadata": {},
   "outputs": [
    {
     "data": {
      "text/plain": [
       "array([[1.],\n",
       "       [2.]])"
      ]
     },
     "execution_count": 95,
     "metadata": {},
     "output_type": "execute_result"
    }
   ],
   "source": [
    "# Solve X matrix\n",
    "inverse_A = np.linalg.inv(A)\n",
    "X = np.round(np.matmul(inverse_A, Z), 4)\n",
    "X"
   ]
  },
  {
   "cell_type": "markdown",
   "id": "d74e096f",
   "metadata": {},
   "source": [
    "# Lab 2"
   ]
  },
  {
   "cell_type": "code",
   "execution_count": 60,
   "id": "27e65b2f",
   "metadata": {},
   "outputs": [],
   "source": [
    "def construct_Gmat2(n, h, resistances, capacitors):\n",
    "    G = construct_Gmat(n=n, resistances=resistances)\n",
    "    \n",
    "    # Applying capacitors stamp for backward euler\n",
    "    for cap in capacitors:\n",
    "        G[cap.node1 - 1][cap.node1 - 1] += (cap.current_value/h)\n",
    "        if cap.node2 != 0:\n",
    "            G[cap.node2 - 1][cap.node2 - 1] += (cap.current_value/h)\n",
    "            G[cap.node1 - 1][cap.node2 - 1] -= (cap.current_value/h)\n",
    "            G[cap.node2 - 1][cap.node1 - 1] -= (cap.current_value/h)\n",
    "    return G"
   ]
  },
  {
   "cell_type": "code",
   "execution_count": 61,
   "id": "65d83710",
   "metadata": {},
   "outputs": [],
   "source": [
    "def construct_Imat2(n, current_sources, capaictors):\n",
    "    i = construct_Imat(n=n, current_sources=current_sources)\n",
    "    \n",
    "    # Applying capacitors stamp for backward euler\n",
    "    for cap in capacitors:\n",
    "        i[cap.node1 - 1][0] += ( (cap.current_value/h) * cap.initial_value )\n",
    "        if cap.node2 != 0:\n",
    "            i[cap.node1 - 1][0] -= ( (cap.current_value/h) * cap.initial_value )\n",
    "    return i"
   ]
  },
  {
   "cell_type": "code",
   "execution_count": 62,
   "id": "a3ac1593",
   "metadata": {},
   "outputs": [],
   "source": [
    "def construct_Bmat2(n, m, voltage_sources, inductors):\n",
    "    B_1 = construct_Bmat(n=n, m=m, voltage_sources=voltage_sources)\n",
    "    \n",
    "    if len(inductors) > 0:\n",
    "        B_2 = np.zeros((n, len(inductors)))\n",
    "        for ind_num, ind in enumerate(inductors):\n",
    "            if ind.node1 != 0: \n",
    "                B_2[ind.node1 - 1][ind_num] = 1\n",
    "            if ind.node2 != 0:\n",
    "                B_2[ind.node2 - 1][ind_num] = -1\n",
    "\n",
    "        B = np.concatenate((B_1, B_2), axis=0)\n",
    "        return B\n",
    "    else:\n",
    "        return B_1"
   ]
  },
  {
   "cell_type": "code",
   "execution_count": 63,
   "id": "b719458a",
   "metadata": {},
   "outputs": [],
   "source": [
    "def construct_Dmat2(m, inductors, h):\n",
    "    D_1 = construct_Dmat(m=m)\n",
    "    \n",
    "    if len(inductors) > 0:\n",
    "        D_2 = np.zeros((len(inductors), len(inductors)))\n",
    "        for ind_num, ind in enumerate(inductors):\n",
    "            D_2[ind_num][ind_num] -= (ind.current_value / h)\n",
    "\n",
    "        D = np.concatenate((D_1, D_2), axis=0)\n",
    "        return D\n",
    "    else:\n",
    "        return D_1"
   ]
  },
  {
   "cell_type": "code",
   "execution_count": 64,
   "id": "9d80a84a",
   "metadata": {},
   "outputs": [
    {
     "data": {
      "text/plain": [
       "array([[ 2.005, -1.   ],\n",
       "       [-1.   ,  1.   ]])"
      ]
     },
     "execution_count": 64,
     "metadata": {},
     "output_type": "execute_result"
    }
   ],
   "source": [
    "# Construct G matrix\n",
    "G2 = construct_Gmat2(n=n, resistances=circuit_components['R'], capacitors=circuit_components['C'], h=time_step)\n",
    "G2"
   ]
  },
  {
   "cell_type": "code",
   "execution_count": 65,
   "id": "2f27b9c6",
   "metadata": {},
   "outputs": [
    {
     "ename": "ValueError",
     "evalue": "all the input array dimensions for the concatenation axis must match exactly, but along dimension 1, the array at index 0 has size 0 and the array at index 1 has size 1",
     "output_type": "error",
     "traceback": [
      "\u001b[1;31m---------------------------------------------------------------------------\u001b[0m",
      "\u001b[1;31mValueError\u001b[0m                                Traceback (most recent call last)",
      "Cell \u001b[1;32mIn [65], line 2\u001b[0m\n\u001b[0;32m      1\u001b[0m \u001b[38;5;66;03m# Construct G matrix\u001b[39;00m\n\u001b[1;32m----> 2\u001b[0m B2\u001b[38;5;241m=\u001b[39m construct_Bmat2(n\u001b[38;5;241m=\u001b[39mn, m\u001b[38;5;241m=\u001b[39mm, inductors\u001b[38;5;241m=\u001b[39mcircuit_components[\u001b[38;5;124m'\u001b[39m\u001b[38;5;124mI\u001b[39m\u001b[38;5;124m'\u001b[39m], voltage_sources\u001b[38;5;241m=\u001b[39mcircuit_components[\u001b[38;5;124m'\u001b[39m\u001b[38;5;124mVsrc\u001b[39m\u001b[38;5;124m'\u001b[39m])\n\u001b[0;32m      3\u001b[0m B2\n",
      "Cell \u001b[1;32mIn [62], line 12\u001b[0m, in \u001b[0;36mconstruct_Bmat2\u001b[1;34m(n, m, voltage_sources, inductors)\u001b[0m\n\u001b[0;32m      9\u001b[0m         \u001b[38;5;28;01mif\u001b[39;00m ind\u001b[38;5;241m.\u001b[39mnode2 \u001b[38;5;241m!=\u001b[39m \u001b[38;5;241m0\u001b[39m:\n\u001b[0;32m     10\u001b[0m             B_2[ind\u001b[38;5;241m.\u001b[39mnode2 \u001b[38;5;241m-\u001b[39m \u001b[38;5;241m1\u001b[39m][ind_num] \u001b[38;5;241m=\u001b[39m \u001b[38;5;241m-\u001b[39m\u001b[38;5;241m1\u001b[39m\n\u001b[1;32m---> 12\u001b[0m     B \u001b[38;5;241m=\u001b[39m \u001b[43mnp\u001b[49m\u001b[38;5;241;43m.\u001b[39;49m\u001b[43mconcatenate\u001b[49m\u001b[43m(\u001b[49m\u001b[43m(\u001b[49m\u001b[43mB_1\u001b[49m\u001b[43m,\u001b[49m\u001b[43m \u001b[49m\u001b[43mB_2\u001b[49m\u001b[43m)\u001b[49m\u001b[43m,\u001b[49m\u001b[43m \u001b[49m\u001b[43maxis\u001b[49m\u001b[38;5;241;43m=\u001b[39;49m\u001b[38;5;241;43m0\u001b[39;49m\u001b[43m)\u001b[49m\n\u001b[0;32m     13\u001b[0m     \u001b[38;5;28;01mreturn\u001b[39;00m B\n\u001b[0;32m     14\u001b[0m \u001b[38;5;28;01melse\u001b[39;00m:\n",
      "File \u001b[1;32m<__array_function__ internals>:180\u001b[0m, in \u001b[0;36mconcatenate\u001b[1;34m(*args, **kwargs)\u001b[0m\n",
      "\u001b[1;31mValueError\u001b[0m: all the input array dimensions for the concatenation axis must match exactly, but along dimension 1, the array at index 0 has size 0 and the array at index 1 has size 1"
     ]
    }
   ],
   "source": [
    "# Construct G matrix\n",
    "B2= construct_Bmat2(n=n, m=m, inductors=circuit_components['I'], voltage_sources=circuit_components['Vsrc'])\n",
    "B2"
   ]
  },
  {
   "cell_type": "code",
   "execution_count": null,
   "id": "c8d7b7fa",
   "metadata": {},
   "outputs": [],
   "source": []
  }
 ],
 "metadata": {
  "kernelspec": {
   "display_name": "Python 3 (ipykernel)",
   "language": "python",
   "name": "python3"
  },
  "language_info": {
   "codemirror_mode": {
    "name": "ipython",
    "version": 3
   },
   "file_extension": ".py",
   "mimetype": "text/x-python",
   "name": "python",
   "nbconvert_exporter": "python",
   "pygments_lexer": "ipython3",
   "version": "3.10.9"
  }
 },
 "nbformat": 4,
 "nbformat_minor": 5
}
