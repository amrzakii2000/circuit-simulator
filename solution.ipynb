{
 "cells": [
  {
   "cell_type": "markdown",
   "id": "4b1ee54b",
   "metadata": {},
   "source": [
    "# Lab 1"
   ]
  },
  {
   "cell_type": "code",
   "execution_count": 29,
   "id": "4425e52c",
   "metadata": {},
   "outputs": [],
   "source": [
    "import numpy as np\n",
    "from collections import defaultdict"
   ]
  },
  {
   "cell_type": "code",
   "execution_count": 30,
   "id": "0128a254",
   "metadata": {},
   "outputs": [],
   "source": [
    "class Component:\n",
    "    def __init__(self, name : str, node1 : int, node2 : int, current_value : float, initial_value : float):\n",
    "        self.name = name\n",
    "        self.node1 = node1\n",
    "        self.node2 = node2\n",
    "        self.current_value = current_value\n",
    "        self.initial_value = initial_value\n",
    "    \n",
    "    def __str__(self):\n",
    "        return f\"{self.name} is connected between node{self.node1} and node{self.node2}. Current value is {self.current_value}. Initial value is {self.initial_value}\""
   ]
  },
  {
   "cell_type": "code",
   "execution_count": 31,
   "id": "e002096f",
   "metadata": {},
   "outputs": [],
   "source": [
    "def read_file(filePath):\n",
    "    file = open(filePath, 'r')\n",
    "    lines = file.readlines()\n",
    "    \n",
    "    sim_time = float(lines[0])\n",
    "    num_iter = float(lines[1])\n",
    "    nodes = set()\n",
    "    \n",
    "    circuit_components = defaultdict(list)\n",
    "    \n",
    "    for line in lines[2:-1]:\n",
    "        name, node1, node2, current_value, initial_value = line.strip('\\n').split(' ')\n",
    "        nodes.add(node1)\n",
    "        nodes.add(node2)\n",
    "        \n",
    "        component = Component(name, int(node1[-1]), int(node2[-1]), float(current_value), float(initial_value))\n",
    "        circuit_components[name].append(component)\n",
    "        \n",
    "    return sim_time, num_iter, circuit_components, len(nodes) - 1, len(circuit_components['Vsrc'])"
   ]
  },
  {
   "cell_type": "code",
   "execution_count": 32,
   "id": "a8a77751",
   "metadata": {},
   "outputs": [],
   "source": [
    "def construct_Gmat(n, resistances):\n",
    "    G = np.zeros((n, n))\n",
    "    for res in resistances:\n",
    "        G[res.node1 - 1][res.node1 - 1] += (1/res.current_value)\n",
    "        if res.node2 != 0:\n",
    "            G[res.node2 - 1][res.node2 - 1] += (1/res.current_value)\n",
    "            G[res.node1 - 1][res.node2 - 1] -= (1/res.current_value)\n",
    "            G[res.node2 - 1][res.node1 - 1] -= (1/res.current_value)\n",
    "    return G"
   ]
  },
  {
   "cell_type": "code",
   "execution_count": 33,
   "id": "4bf84437",
   "metadata": {},
   "outputs": [],
   "source": [
    "def construct_Bmat(n, m, voltage_sources):\n",
    "    B = np.zeros((n, m))\n",
    "    for column, voltage_source in enumerate(voltage_sources):\n",
    "        if voltage_source.node1 != 0: \n",
    "            B[voltage_source.node1 - 1][column] = 1\n",
    "        \n",
    "        if voltage_source.node2 != 0:\n",
    "            B[voltage_source.node2 - 1][column] = -1\n",
    "    return B"
   ]
  },
  {
   "cell_type": "code",
   "execution_count": 34,
   "id": "1c6800e3",
   "metadata": {},
   "outputs": [],
   "source": [
    "def construct_Cmat(b_matrix):\n",
    "    return b_matrix.transpose()"
   ]
  },
  {
   "cell_type": "code",
   "execution_count": 35,
   "id": "d0013fc3",
   "metadata": {},
   "outputs": [],
   "source": [
    "def construct_Dmat(m):\n",
    "    return np.zeros((m, m))"
   ]
  },
  {
   "cell_type": "code",
   "execution_count": 36,
   "id": "23c74424",
   "metadata": {},
   "outputs": [],
   "source": [
    "def construct_Amat(G, B, C, D):\n",
    "    G_C = np.concatenate((G, C), axis=0)\n",
    "    B_D = np.concatenate((B, D), axis=0)\n",
    "    return np.concatenate((G_C, B_D), axis=1)"
   ]
  },
  {
   "cell_type": "code",
   "execution_count": 37,
   "id": "9daab420",
   "metadata": {},
   "outputs": [],
   "source": [
    "def construct_Zmat(voltage_sources, current_sources, n ,m):\n",
    "    i = np.zeros((n, 1))\n",
    "    e = np.zeros((m, 1))\n",
    "    \n",
    "    for cs in current_sources:\n",
    "        if cs.node1 != 0:\n",
    "            i[cs.node1 -1] += cs.current_value \n",
    "        if cs.node2 != 0:\n",
    "            i[cs.node2 -1] += cs.current_value \n",
    "    \n",
    "    for column, voltage_source in enumerate(voltage_sources):\n",
    "        e[column] = voltage_source.current_value\n",
    "    \n",
    "    return np.concatenate((i,e), axis=0)"
   ]
  },
  {
   "cell_type": "code",
   "execution_count": 46,
   "id": "c7b68cd4",
   "metadata": {
    "scrolled": true
   },
   "outputs": [
    {
     "name": "stdout",
     "output_type": "stream",
     "text": [
      "2 1\n"
     ]
    }
   ],
   "source": [
    "# Read all needed data\n",
    "simulation_time, num_iter, circuit_components, n, m =  read_file('./testcases/4.txt')\n",
    "\n",
    "print(n, m)"
   ]
  },
  {
   "cell_type": "code",
   "execution_count": 48,
   "id": "8c460eeb",
   "metadata": {},
   "outputs": [
    {
     "data": {
      "text/plain": [
       "array([[ 2.5, -2. ],\n",
       "       [-2. ,  2.5]])"
      ]
     },
     "execution_count": 48,
     "metadata": {},
     "output_type": "execute_result"
    }
   ],
   "source": [
    "# Construct G matrix\n",
    "G = construct_Gmat(n, circuit_components['R'])\n",
    "G"
   ]
  },
  {
   "cell_type": "code",
   "execution_count": 49,
   "id": "7fe9d81e",
   "metadata": {},
   "outputs": [
    {
     "data": {
      "text/plain": [
       "array([[ 1.],\n",
       "       [-1.]])"
      ]
     },
     "execution_count": 49,
     "metadata": {},
     "output_type": "execute_result"
    }
   ],
   "source": [
    "# Construct B matrix\n",
    "B = construct_Bmat(n, m, circuit_components['Vsrc'])\n",
    "B"
   ]
  },
  {
   "cell_type": "code",
   "execution_count": 50,
   "id": "4790f9c1",
   "metadata": {},
   "outputs": [
    {
     "data": {
      "text/plain": [
       "array([[ 1., -1.]])"
      ]
     },
     "execution_count": 50,
     "metadata": {},
     "output_type": "execute_result"
    }
   ],
   "source": [
    "# Construct C matrix\n",
    "C = construct_Cmat(B)\n",
    "C"
   ]
  },
  {
   "cell_type": "code",
   "execution_count": 51,
   "id": "30979b38",
   "metadata": {},
   "outputs": [
    {
     "data": {
      "text/plain": [
       "array([[0.]])"
      ]
     },
     "execution_count": 51,
     "metadata": {},
     "output_type": "execute_result"
    }
   ],
   "source": [
    "# Construct D matrix\n",
    "D = construct_Dmat(m)\n",
    "D"
   ]
  },
  {
   "cell_type": "code",
   "execution_count": 52,
   "id": "e3cfadac",
   "metadata": {},
   "outputs": [
    {
     "data": {
      "text/plain": [
       "array([[ 2.5, -2. ,  1. ],\n",
       "       [-2. ,  2.5, -1. ],\n",
       "       [ 1. , -1. ,  0. ]])"
      ]
     },
     "execution_count": 52,
     "metadata": {},
     "output_type": "execute_result"
    }
   ],
   "source": [
    "# Construct A matrix\n",
    "A = construct_Amat(G=G, C=C, B=B, D=D)\n",
    "A"
   ]
  },
  {
   "cell_type": "code",
   "execution_count": 53,
   "id": "b6b76c69",
   "metadata": {},
   "outputs": [
    {
     "data": {
      "text/plain": [
       "array([[1.],\n",
       "       [0.],\n",
       "       [2.]])"
      ]
     },
     "execution_count": 53,
     "metadata": {},
     "output_type": "execute_result"
    }
   ],
   "source": [
    "# Construct Z matrix\n",
    "Z = construct_Zmat(circuit_components['Vsrc'], circuit_components['Isrc'], n, m)\n",
    "Z"
   ]
  },
  {
   "cell_type": "code",
   "execution_count": 54,
   "id": "0b934f0d",
   "metadata": {},
   "outputs": [
    {
     "data": {
      "text/plain": [
       "array([[ 2.00000000e+00],\n",
       "       [ 2.22044605e-16],\n",
       "       [-4.00000000e+00]])"
      ]
     },
     "execution_count": 54,
     "metadata": {},
     "output_type": "execute_result"
    }
   ],
   "source": [
    "# Solve X matrix\n",
    "inverse_A = np.linalg.inv(A)\n",
    "X = np.matmul(inverse_A, Z)\n",
    "X"
   ]
  },
  {
   "cell_type": "markdown",
   "id": "d74e096f",
   "metadata": {},
   "source": [
    "# Lab 2"
   ]
  },
  {
   "cell_type": "code",
   "execution_count": null,
   "id": "27e65b2f",
   "metadata": {},
   "outputs": [],
   "source": []
  }
 ],
 "metadata": {
  "kernelspec": {
   "display_name": "Python 3 (ipykernel)",
   "language": "python",
   "name": "python3"
  },
  "language_info": {
   "codemirror_mode": {
    "name": "ipython",
    "version": 3
   },
   "file_extension": ".py",
   "mimetype": "text/x-python",
   "name": "python",
   "nbconvert_exporter": "python",
   "pygments_lexer": "ipython3",
   "version": "3.10.9"
  }
 },
 "nbformat": 4,
 "nbformat_minor": 5
}
