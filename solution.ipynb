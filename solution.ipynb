{
 "cells": [
  {
   "cell_type": "code",
   "execution_count": 2,
   "id": "4425e52c",
   "metadata": {},
   "outputs": [],
   "source": [
    "import numpy as np\n",
    "from collections import defaultdict"
   ]
  },
  {
   "cell_type": "code",
   "execution_count": 3,
   "id": "0128a254",
   "metadata": {},
   "outputs": [],
   "source": [
    "class Component:\n",
    "    def __init__(self, name : str, node1 : int, node2 : int, current_value : float, initial_value : float):\n",
    "        self.name = name\n",
    "        self.node1 = node1\n",
    "        self.node2 = node2\n",
    "        self.current_value = current_value\n",
    "        self.initial_value = initial_value\n",
    "    \n",
    "    def __str__(self):\n",
    "        return f\"{self.name} is connected between node{self.node1} and node{self.node2}. Current value is {self.current_value}. Initial value is {self.initial_value}\""
   ]
  },
  {
   "cell_type": "code",
   "execution_count": 4,
   "id": "e002096f",
   "metadata": {},
   "outputs": [],
   "source": [
    "def read_file(filePath):\n",
    "    file = open(filePath, 'r')\n",
    "    lines = file.readlines()\n",
    "    \n",
    "    sim_time = float(lines[0])\n",
    "    num_iter = float(lines[1])\n",
    "    nodes = set()\n",
    "    \n",
    "    circuit_components = defaultdict(list)\n",
    "    \n",
    "    for line in lines[2:-1]:\n",
    "        name, node1, node2, current_value, initial_value = line.strip('\\n').split(' ')\n",
    "        nodes.add(node1)\n",
    "        nodes.add(node2)\n",
    "        \n",
    "        component = Component(name, int(node1[-1]), int(node2[-1]), float(current_value), float(initial_value))\n",
    "        circuit_components[name].append(component)\n",
    "        \n",
    "    return sim_time, num_iter, circuit_components, len(nodes) - 1, len(circuit_components['Vsrc'])"
   ]
  },
  {
   "cell_type": "code",
   "execution_count": 5,
   "id": "a8a77751",
   "metadata": {},
   "outputs": [],
   "source": [
    "def construct_Gmat(n, resistances):\n",
    "    G = np.zeros((n, n))\n",
    "    for res in resistances:\n",
    "        G[res.node1 - 1][res.node1 - 1] += (1/res.current_value)\n",
    "        if res.node2 != 0:\n",
    "            G[res.node2 - 1][res.node2 - 1] += (1/res.current_value)\n",
    "            G[res.node1 - 1][res.node2 - 1] -= (1/res.current_value)\n",
    "            G[res.node2 - 1][res.node1 - 1] -= (1/res.current_value)\n",
    "    return G"
   ]
  },
  {
   "cell_type": "code",
   "execution_count": 6,
   "id": "4bf84437",
   "metadata": {},
   "outputs": [],
   "source": [
    "def construct_Bmat(n, m, voltage_sources):\n",
    "    B = np.zeros((n, m))\n",
    "    for column, voltage_source in enumerate(voltage_sources):\n",
    "        if voltage_source.node1 != 0: \n",
    "            B[voltage_source.node1 - 1][column] = 1\n",
    "        \n",
    "        if voltage_source.node2 != 0:\n",
    "            B[voltage_source.node2 - 1][column] = -1\n",
    "    return B"
   ]
  },
  {
   "cell_type": "code",
   "execution_count": 7,
   "id": "1c6800e3",
   "metadata": {},
   "outputs": [],
   "source": [
    "def construct_Cmat(b_matrix):\n",
    "    return b_matrix.transpose()\n",
    "    \n"
   ]
  },
  {
   "cell_type": "code",
   "execution_count": 8,
   "id": "d0013fc3",
   "metadata": {},
   "outputs": [],
   "source": [
    "def construct_Dmat(m):\n",
    "    return np.zeros((m, m))"
   ]
  },
  {
   "cell_type": "code",
   "execution_count": null,
   "id": "a6fdde40",
   "metadata": {},
   "outputs": [],
   "source": [
    "def construct_Amat(G, B, C, D):\n",
    "    G_C = np.concatenate((G, C), axis=0)\n",
    "    B_D = np.concatenate((B, D), axis=0)\n",
    "    return np.concatenate"
   ]
  },
  {
   "cell_type": "code",
   "execution_count": 9,
   "id": "c7b68cd4",
   "metadata": {
    "scrolled": true
   },
   "outputs": [
    {
     "name": "stdout",
     "output_type": "stream",
     "text": [
      "2 1\n"
     ]
    }
   ],
   "source": [
    "# Read all needed data\n",
    "simulation_time, num_iter, circuit_components, n, m =  read_file('./testcases/1.txt')\n",
    "\n",
    "print(n, m)"
   ]
  },
  {
   "cell_type": "code",
   "execution_count": 18,
   "id": "8c460eeb",
   "metadata": {},
   "outputs": [
    {
     "data": {
      "text/plain": [
       "array([[ 0.33333333, -0.33333333],\n",
       "       [-0.33333333,  0.66666667]])"
      ]
     },
     "execution_count": 18,
     "metadata": {},
     "output_type": "execute_result"
    }
   ],
   "source": [
    "# Construct G matrix\n",
    "G = construct_Gmat(n, circuit_components['R'])\n",
    "G"
   ]
  },
  {
   "cell_type": "code",
   "execution_count": 11,
   "id": "7fe9d81e",
   "metadata": {},
   "outputs": [
    {
     "data": {
      "text/plain": [
       "array([[1.],\n",
       "       [0.]])"
      ]
     },
     "execution_count": 11,
     "metadata": {},
     "output_type": "execute_result"
    }
   ],
   "source": [
    "# Construct B matrix\n",
    "B = construct_Bmat(n, m, circuit_components['Vsrc'])\n",
    "B"
   ]
  },
  {
   "cell_type": "code",
   "execution_count": 12,
   "id": "4790f9c1",
   "metadata": {},
   "outputs": [
    {
     "data": {
      "text/plain": [
       "array([[1., 0.]])"
      ]
     },
     "execution_count": 12,
     "metadata": {},
     "output_type": "execute_result"
    }
   ],
   "source": [
    "# Construct C matrix\n",
    "C = construct_Cmat(B)\n",
    "C"
   ]
  },
  {
   "cell_type": "code",
   "execution_count": 13,
   "id": "30979b38",
   "metadata": {},
   "outputs": [
    {
     "data": {
      "text/plain": [
       "array([[0.]])"
      ]
     },
     "execution_count": 13,
     "metadata": {},
     "output_type": "execute_result"
    }
   ],
   "source": [
    "# Construct D matrix\n",
    "D = construct_Dmat(m)\n",
    "D"
   ]
  },
  {
   "cell_type": "code",
   "execution_count": 16,
   "id": "e3cfadac",
   "metadata": {},
   "outputs": [
    {
     "data": {
      "text/plain": [
       "array([[ 0.33333333, -0.33333333],\n",
       "       [-0.33333333,  0.66666667],\n",
       "       [ 1.        ,  0.        ]])"
      ]
     },
     "execution_count": 16,
     "metadata": {},
     "output_type": "execute_result"
    }
   ],
   "source": [
    "# Construct A matrix\n",
    "A = np.concatenate((G, C), axis=0)\n",
    "A"
   ]
  },
  {
   "cell_type": "code",
   "execution_count": null,
   "id": "461edaed",
   "metadata": {},
   "outputs": [],
   "source": []
  }
 ],
 "metadata": {
  "kernelspec": {
   "display_name": "Python 3 (ipykernel)",
   "language": "python",
   "name": "python3"
  },
  "language_info": {
   "codemirror_mode": {
    "name": "ipython",
    "version": 3
   },
   "file_extension": ".py",
   "mimetype": "text/x-python",
   "name": "python",
   "nbconvert_exporter": "python",
   "pygments_lexer": "ipython3",
   "version": "3.10.9"
  }
 },
 "nbformat": 4,
 "nbformat_minor": 5
}
